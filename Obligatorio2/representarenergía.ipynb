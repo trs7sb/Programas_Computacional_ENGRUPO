{
 "cells": [
  {
   "cell_type": "code",
   "execution_count": 3,
   "id": "367aa9cb",
   "metadata": {},
   "outputs": [
    {
     "ename": "ValueError",
     "evalue": "not enough values to unpack (expected 2, got 1)",
     "output_type": "error",
     "traceback": [
      "\u001b[1;31m---------------------------------------------------------------------------\u001b[0m",
      "\u001b[1;31mValueError\u001b[0m                                Traceback (most recent call last)",
      "Cell \u001b[1;32mIn[3], line 7\u001b[0m\n\u001b[0;32m      5\u001b[0m \u001b[38;5;28;01mwith\u001b[39;00m \u001b[38;5;28mopen\u001b[39m(\u001b[38;5;124m\"\u001b[39m\u001b[38;5;124menergias.txt\u001b[39m\u001b[38;5;124m\"\u001b[39m, \u001b[38;5;124m\"\u001b[39m\u001b[38;5;124mr\u001b[39m\u001b[38;5;124m\"\u001b[39m) \u001b[38;5;28;01mas\u001b[39;00m f:\n\u001b[0;32m      6\u001b[0m     \u001b[38;5;28;01mfor\u001b[39;00m line \u001b[38;5;129;01min\u001b[39;00m f:\n\u001b[1;32m----> 7\u001b[0m         iteracion, energia \u001b[38;5;241m=\u001b[39m \u001b[38;5;28mmap\u001b[39m(\u001b[38;5;28mfloat\u001b[39m, line\u001b[38;5;241m.\u001b[39msplit())\n\u001b[0;32m      8\u001b[0m         iteraciones\u001b[38;5;241m.\u001b[39mappend(iteracion)\n\u001b[0;32m      9\u001b[0m         energias\u001b[38;5;241m.\u001b[39mappend(energia)\n",
      "\u001b[1;31mValueError\u001b[0m: not enough values to unpack (expected 2, got 1)"
     ]
    }
   ],
   "source": [
    "import matplotlib.pyplot as plt\n",
    "\n",
    "# Cargar los datos\n",
    "iteraciones, energias = [], []\n",
    "with open(\"energias.txt\", \"r\") as f:\n",
    "    for line in f:\n",
    "        iteracion, energia = map(float, line.split())\n",
    "        iteraciones.append(iteracion)\n",
    "        energias.append(energia)\n",
    "\n",
    "# Graficar\n",
    "plt.plot(iteraciones, energias, label=\"Energía\")\n",
    "plt.xlabel(\"Iteración\")\n",
    "plt.ylabel(\"Energía\")\n",
    "plt.title(\"Energía vs Iteración\")\n",
    "plt.legend()\n",
    "plt.grid()\n",
    "plt.show()"
   ]
  }
 ],
 "metadata": {
  "kernelspec": {
   "display_name": "base",
   "language": "python",
   "name": "python3"
  },
  "language_info": {
   "codemirror_mode": {
    "name": "ipython",
    "version": 3
   },
   "file_extension": ".py",
   "mimetype": "text/x-python",
   "name": "python",
   "nbconvert_exporter": "python",
   "pygments_lexer": "ipython3",
   "version": "3.12.8"
  }
 },
 "nbformat": 4,
 "nbformat_minor": 5
}
