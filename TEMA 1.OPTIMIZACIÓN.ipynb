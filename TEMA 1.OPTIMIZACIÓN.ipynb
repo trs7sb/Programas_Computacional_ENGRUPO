{
 "cells": [
  {
   "cell_type": "markdown",
   "metadata": {},
   "source": [
    "PLANETAS. TEMA 1 \n",
    "reescalamineto (slide 8)\n",
    "Estabilidad numérica\n",
    "Cadena es en C el nombre de un puntero\n",
    "double a; \n",
    "double* pa; esto es una variable que me guarda una posición de memoria\n",
    "pa=&a; #asignamos la posición de memoria de a a pa.\n",
    "double cadena[N]\n",
    "\n",
    "Los punteros sólo se usan para programas eficientes en memoria. \n",
    "\n",
    "double table[10][15] una matriz en c es un puntero (un array de arrays)\n",
    "double ** (table sería un puntero a puntero de tipo double)\n",
    "funcion que coja un vector y pasarle de input un puntero y la longitud del vector.\n",
    "\n",
    "INSTALAR numpy, numba y pyomp"
   ]
  },
  {
   "cell_type": "code",
   "execution_count": 5,
   "metadata": {},
   "outputs": [
    {
     "name": "stdout",
     "output_type": "stream",
     "text": [
      "Número de núcleos disponibles: 8\n"
     ]
    }
   ],
   "source": [
    "import os\n",
    "\n",
    "# Obtén el número de núcleos disponibles\n",
    "num_cores = os.cpu_count()\n",
    "print(f\"Número de núcleos disponibles: {num_cores}\")"
   ]
  },
  {
   "cell_type": "code",
   "execution_count": 6,
   "metadata": {},
   "outputs": [
    {
     "name": "stdout",
     "output_type": "stream",
     "text": [
      "Tiempo de ejecución con Numba: 5.22 segundos\n",
      "Tiempo de ejecución sin Numba: 41.07 segundos\n"
     ]
    }
   ],
   "source": [
    "import numpy as np\n",
    "from numba import jit, prange\n",
    "import time\n",
    "\n",
    "@jit(nopython=True, parallel=True)\n",
    "def multiply_by_gravity(matrix, gravity=9.81):\n",
    "    \"\"\"\n",
    "    Multiplica cada elemento de una matriz 2D por la gravedad utilizando paralelización.\n",
    "    \n",
    "    Args:\n",
    "        matrix (np.ndarray): Matriz 2D de entrada.\n",
    "        gravity (float): Valor de la gravedad. Por defecto es 9.81 m/s².\n",
    "    \n",
    "    Returns:\n",
    "        np.ndarray: Matriz resultante después de la multiplicación.\n",
    "    \"\"\"\n",
    "    rows, cols = matrix.shape\n",
    "    result = np.zeros((rows, cols))\n",
    "    for i in prange(rows):  # Paralelización del bucle externo\n",
    "        for j in range(cols):\n",
    "            result[i, j] = matrix[i, j] * gravity\n",
    "    return result\n",
    "\n",
    "# Crear una matriz grande (por ejemplo, 10,000 x 10,000)\n",
    "matrix_size = 10000\n",
    "large_matrix = np.random.rand(matrix_size, matrix_size)\n",
    "\n",
    "# Medir el tiempo de ejecución con Numba\n",
    "start_time = time.time()\n",
    "result = multiply_by_gravity(large_matrix)\n",
    "end_time = time.time()\n",
    "\n",
    "print(f\"Tiempo de ejecución con Numba: {end_time - start_time:.2f} segundos\")\n",
    "\n",
    "# Comparar con una implementación sin Numba\n",
    "def multiply_by_gravity_no_numba(matrix, gravity=9.81):\n",
    "    rows, cols = matrix.shape\n",
    "    result = np.zeros((rows, cols))\n",
    "    for i in range(rows):\n",
    "        for j in range(cols):\n",
    "            result[i, j] = matrix[i, j] * gravity\n",
    "    return result\n",
    "\n",
    "# Medir el tiempo de ejecución sin Numba\n",
    "start_time = time.time()\n",
    "result_no_numba = multiply_by_gravity_no_numba(large_matrix)\n",
    "end_time = time.time()\n",
    "\n",
    "print(f\"Tiempo de ejecución sin Numba: {end_time - start_time:.2f} segundos\")"
   ]
  },
  {
   "cell_type": "code",
   "execution_count": 7,
   "metadata": {},
   "outputs": [
    {
     "name": "stdout",
     "output_type": "stream",
     "text": [
      "Número de núcleos disponibles: 8\n",
      "Tiempo de ejecución de 'contar_nucleos': 0.01 segundos\n",
      "Iniciando tarea adicional...\n",
      "Multiplicación de matriz completada.\n",
      "Tiempo de ejecución de 'multiplicar_matriz': 0.04 segundos\n",
      "Tarea adicional completada.\n",
      "Tiempo de ejecución de 'tarea_adicional': 2.01 segundos\n",
      "Todas las tareas completadas.\n"
     ]
    }
   ],
   "source": [
    "import os\n",
    "import threading\n",
    "import numpy as np\n",
    "import time\n",
    "\n",
    "def contar_nucleos():\n",
    "    \"\"\"Función para contar y mostrar el número de núcleos disponibles.\"\"\"\n",
    "    start_time = time.time()\n",
    "    num_cores = os.cpu_count()\n",
    "    print(f\"Número de núcleos disponibles: {num_cores}\")\n",
    "    end_time = time.time()\n",
    "    print(f\"Tiempo de ejecución de 'contar_nucleos': {end_time - start_time:.2f} segundos\")\n",
    "\n",
    "def multiplicar_matriz():\n",
    "    \"\"\"Función para multiplicar una matriz grande por la gravedad.\"\"\"\n",
    "    start_time = time.time()\n",
    "    gravity = 9.81\n",
    "    matrix_size = 1000  # Tamaño de la matriz (puedes ajustarlo)\n",
    "    large_matrix = np.random.rand(matrix_size, matrix_size)\n",
    "    result = large_matrix * gravity\n",
    "    print(\"Multiplicación de matriz completada.\")\n",
    "    end_time = time.time()\n",
    "    print(f\"Tiempo de ejecución de 'multiplicar_matriz': {end_time - start_time:.2f} segundos\")\n",
    "\n",
    "def tarea_adicional():\n",
    "    \"\"\"Función para realizar una tarea adicional (simulación de trabajo).\"\"\"\n",
    "    start_time = time.time()\n",
    "    print(\"Iniciando tarea adicional...\")\n",
    "    time.sleep(2)  # Simula una tarea que toma tiempo\n",
    "    print(\"Tarea adicional completada.\")\n",
    "    end_time = time.time()\n",
    "    print(f\"Tiempo de ejecución de 'tarea_adicional': {end_time - start_time:.2f} segundos\")\n",
    "\n",
    "# Crear los hilos\n",
    "hilo1 = threading.Thread(target=contar_nucleos)\n",
    "hilo2 = threading.Thread(target=multiplicar_matriz)\n",
    "hilo3 = threading.Thread(target=tarea_adicional)\n",
    "\n",
    "# Iniciar los hilos\n",
    "hilo1.start()\n",
    "hilo2.start()\n",
    "hilo3.start()\n",
    "\n",
    "# Esperar a que los hilos terminen\n",
    "hilo1.join()\n",
    "hilo2.join()\n",
    "hilo3.join()\n",
    "\n",
    "print(\"Todas las tareas completadas.\")"
   ]
  },
  {
   "cell_type": "code",
   "execution_count": null,
   "metadata": {
    "vscode": {
     "languageId": "latex"
    }
   },
   "outputs": [
    {
     "ename": "SyntaxError",
     "evalue": "invalid syntax (3362386934.py, line 3)",
     "output_type": "error",
     "traceback": [
      "\u001b[1;36m  Cell \u001b[1;32mIn[9], line 3\u001b[1;36m\u001b[0m\n\u001b[1;33m    Cluster: agrupación de ordenadores conectados, nodos, que trabajan como un único sistema.\u001b[0m\n\u001b[1;37m                        ^\u001b[0m\n\u001b[1;31mSyntaxError\u001b[0m\u001b[1;31m:\u001b[0m invalid syntax\n"
     ]
    }
   ],
   "source": [
    "OPTIMIZACIÓN\n",
    "\n",
    "Cluster: agrupación de ordenadores conectados, nodos, que trabajan como un único sistema. \n",
    "Paralelización: En una CPU mononúcleo solo se puede ejecutar un proceso a la vez (no hay paralelismo). \n",
    "Una CPU multinúcleo se comporta como varias CPUs separadas, lo cual se combina mediante técnicas de programación paralela para poder ejecutar varios programas distintos a la vez. \n",
    "Multithreading: dando subprocesos a cada núcleo físico del procesador. \n",
    "Los hilos de ejecución o subprocesos son una especie de divisiones de un proceso que trabajan con una independencia parecida a la que tienen dos procesos diferentes, pero compartiendo recursos. \n",
    "Por ejemplo, un procesador de textos puede tener un hilo para recibir la entrada del usuario, otro para mostrarlo  en pantalla, otro para el autoguardado\n",
    "El hecho de mantener dos contextos de ejecución en un mismo núcleo y que el cambio entre ellos sea extremadamente rápido implica que se aprovechan mucho mejor los huecos libres en la ejecución. \n",
    "Es decir, esos momentos en los que un núcleo estaría esperando a que el subproceso haga algo o a alguna operación de entrada/salida.\n",
    " Con multithreading, ese tiempo se aprovecha para ejecutar el otro subproceso."
   ]
  }
 ],
 "metadata": {
  "kernelspec": {
   "display_name": ".conda",
   "language": "python",
   "name": "python3"
  },
  "language_info": {
   "codemirror_mode": {
    "name": "ipython",
    "version": 3
   },
   "file_extension": ".py",
   "mimetype": "text/x-python",
   "name": "python",
   "nbconvert_exporter": "python",
   "pygments_lexer": "ipython3",
   "version": "3.11.11"
  }
 },
 "nbformat": 4,
 "nbformat_minor": 2
}
