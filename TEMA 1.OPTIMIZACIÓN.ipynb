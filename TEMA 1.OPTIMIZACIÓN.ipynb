{
 "cells": [
  {
   "cell_type": "markdown",
   "metadata": {},
   "source": [
    "PLANETAS. TEMA 1 \n",
    "reescalamineto (slide 8)\n",
    "Estabilidad numérica\n",
    "Cadena es en C el nombre de un puntero\n",
    "double a; \n",
    "double* pa; esto es una variable que me guarda una posición de memoria\n",
    "pa=&a; #asignamos la posición de memoria de a a pa.\n",
    "double cadena[N]\n",
    "\n",
    "Los punteros sólo se usan para programas eficientes en memoria. \n",
    "\n",
    "double table[10][15] una matriz en c es un puntero (un array de arrays)\n",
    "double ** (table sería un puntero a puntero de tipo double)\n",
    "funcion que coja un vector y pasarle de input un puntero y la longitud del vector.\n",
    "\n",
    "INSTALAR numpy, numba y pyomp"
   ]
  },
  {
   "cell_type": "code",
   "execution_count": 1,
   "metadata": {},
   "outputs": [
    {
     "name": "stdout",
     "output_type": "stream",
     "text": [
      "Número de núcleos disponibles: 8\n"
     ]
    }
   ],
   "source": [
    "import os\n",
    "\n",
    "# Obtén el número de núcleos disponibles\n",
    "num_cores = os.cpu_count()\n",
    "print(f\"Número de núcleos disponibles: {num_cores}\")"
   ]
  },
  {
   "cell_type": "code",
   "execution_count": 2,
   "metadata": {},
   "outputs": [
    {
     "ename": "ModuleNotFoundError",
     "evalue": "No module named 'numba'",
     "output_type": "error",
     "traceback": [
      "\u001b[31m---------------------------------------------------------------------------\u001b[39m",
      "\u001b[31mModuleNotFoundError\u001b[39m                       Traceback (most recent call last)",
      "\u001b[36mCell\u001b[39m\u001b[36m \u001b[39m\u001b[32mIn[2]\u001b[39m\u001b[32m, line 2\u001b[39m\n\u001b[32m      1\u001b[39m \u001b[38;5;28;01mimport\u001b[39;00m\u001b[38;5;250m \u001b[39m\u001b[34;01mnumpy\u001b[39;00m\u001b[38;5;250m \u001b[39m\u001b[38;5;28;01mas\u001b[39;00m\u001b[38;5;250m \u001b[39m\u001b[34;01mnp\u001b[39;00m\n\u001b[32m----> \u001b[39m\u001b[32m2\u001b[39m \u001b[38;5;28;01mfrom\u001b[39;00m\u001b[38;5;250m \u001b[39m\u001b[34;01mnumba\u001b[39;00m\u001b[38;5;250m \u001b[39m\u001b[38;5;28;01mimport\u001b[39;00m jit, prange\n\u001b[32m      3\u001b[39m \u001b[38;5;28;01mimport\u001b[39;00m\u001b[38;5;250m \u001b[39m\u001b[34;01mtime\u001b[39;00m\n\u001b[32m      5\u001b[39m \u001b[38;5;129m@jit\u001b[39m(nopython=\u001b[38;5;28;01mTrue\u001b[39;00m, parallel=\u001b[38;5;28;01mTrue\u001b[39;00m)\n\u001b[32m      6\u001b[39m \u001b[38;5;28;01mdef\u001b[39;00m\u001b[38;5;250m \u001b[39m\u001b[34mmultiply_by_gravity\u001b[39m(matrix, gravity=\u001b[32m9.81\u001b[39m):\n",
      "\u001b[31mModuleNotFoundError\u001b[39m: No module named 'numba'"
     ]
    }
   ],
   "source": [
    "import numpy as np\n",
    "from numba import jit, prange\n",
    "import time\n",
    "\n",
    "@jit(nopython=True, parallel=True)\n",
    "def multiply_by_gravity(matrix, gravity=9.81):\n",
    "    \"\"\"\n",
    "    Multiplica cada elemento de una matriz 2D por la gravedad utilizando paralelización.\n",
    "    \n",
    "    Args:\n",
    "        matrix (np.ndarray): Matriz 2D de entrada.\n",
    "        gravity (float): Valor de la gravedad. Por defecto es 9.81 m/s².\n",
    "    \n",
    "    Returns:\n",
    "        np.ndarray: Matriz resultante después de la multiplicación.\n",
    "    \"\"\"\n",
    "    rows, cols = matrix.shape\n",
    "    result = np.zeros((rows, cols))\n",
    "    for i in prange(rows):  # Paralelización del bucle externo\n",
    "        for j in range(cols):\n",
    "            result[i, j] = matrix[i, j] * gravity\n",
    "    return result\n",
    "\n",
    "# Crear una matriz grande (por ejemplo, 10,000 x 10,000)\n",
    "matrix_size = 10000\n",
    "large_matrix = np.random.rand(matrix_size, matrix_size)\n",
    "\n",
    "# Medir el tiempo de ejecución con Numba\n",
    "start_time = time.time()\n",
    "result = multiply_by_gravity(large_matrix)\n",
    "end_time = time.time()\n",
    "\n",
    "print(f\"Tiempo de ejecución con Numba: {end_time - start_time:.2f} segundos\")\n",
    "\n",
    "# Comparar con una implementación sin Numba\n",
    "def multiply_by_gravity_no_numba(matrix, gravity=9.81):\n",
    "    rows, cols = matrix.shape\n",
    "    result = np.zeros((rows, cols))\n",
    "    for i in range(rows):\n",
    "        for j in range(cols):\n",
    "            result[i, j] = matrix[i, j] * gravity\n",
    "    return result\n",
    "\n",
    "# Medir el tiempo de ejecución sin Numba\n",
    "start_time = time.time()\n",
    "result_no_numba = multiply_by_gravity_no_numba(large_matrix)\n",
    "end_time = time.time()\n",
    "\n",
    "print(f\"Tiempo de ejecución sin Numba: {end_time - start_time:.2f} segundos\")"
   ]
  },
  {
   "cell_type": "code",
   "execution_count": null,
   "metadata": {},
   "outputs": [
    {
     "name": "stdout",
     "output_type": "stream",
     "text": [
      "Número de núcleos disponibles: 8\n",
      "Tiempo de ejecución de 'contar_nucleos': 0.01 segundos\n",
      "Iniciando tarea adicional...\n",
      "Multiplicación de matriz completada.\n",
      "Tiempo de ejecución de 'multiplicar_matriz': 0.05 segundos\n",
      "Tarea adicional completada.\n",
      "Tiempo de ejecución de 'tarea_adicional': 2.01 segundos\n",
      "Todas las tareas completadas.\n"
     ]
    }
   ],
   "source": [
    "import os\n",
    "import threading\n",
    "import numpy as np\n",
    "import time\n",
    "\n",
    "def contar_nucleos():\n",
    "    \"\"\"Función para contar y mostrar el número de núcleos disponibles.\"\"\"\n",
    "    start_time = time.time()\n",
    "    num_cores = os.cpu_count()\n",
    "    print(f\"Número de núcleos disponibles: {num_cores}\")\n",
    "    end_time = time.time()\n",
    "    print(f\"Tiempo de ejecución de 'contar_nucleos': {end_time - start_time:.2f} segundos\")\n",
    "\n",
    "def multiplicar_matriz():\n",
    "    \"\"\"Función para multiplicar una matriz grande por la gravedad.\"\"\"\n",
    "    start_time = time.time()\n",
    "    gravity = 9.81\n",
    "    matrix_size = 1000  # Tamaño de la matriz (puedes ajustarlo)\n",
    "    large_matrix = np.random.rand(matrix_size, matrix_size)\n",
    "    result = large_matrix * gravity\n",
    "    print(\"Multiplicación de matriz completada.\")\n",
    "    end_time = time.time()\n",
    "    print(f\"Tiempo de ejecución de 'multiplicar_matriz': {end_time - start_time:.2f} segundos\")\n",
    "\n",
    "def tarea_adicional():\n",
    "    \"\"\"Función para realizar una tarea adicional (simulación de trabajo).\"\"\"\n",
    "    start_time = time.time()\n",
    "    print(\"Iniciando tarea adicional...\")\n",
    "    time.sleep(2)  # Simula una tarea que toma tiempo\n",
    "    print(\"Tarea adicional completada.\")\n",
    "    end_time = time.time()\n",
    "    print(f\"Tiempo de ejecución de 'tarea_adicional': {end_time - start_time:.2f} segundos\")\n",
    "\n",
    "# Crear los hilos\n",
    "hilo1 = threading.Thread(target=contar_nucleos)\n",
    "hilo2 = threading.Thread(target=multiplicar_matriz)\n",
    "hilo3 = threading.Thread(target=tarea_adicional)\n",
    "\n",
    "# Iniciar los hilos\n",
    "hilo1.start()\n",
    "hilo2.start()\n",
    "hilo3.start()\n",
    "\n",
    "# Esperar a que los hilos terminen\n",
    "hilo1.join()\n",
    "hilo2.join()\n",
    "hilo3.join()\n",
    "\n",
    "print(\"Todas las tareas completadas.\")"
   ]
  }
 ],
 "metadata": {
  "kernelspec": {
   "display_name": "Python 3",
   "language": "python",
   "name": "python3"
  },
  "language_info": {
   "codemirror_mode": {
    "name": "ipython",
    "version": 3
   },
   "file_extension": ".py",
   "mimetype": "text/x-python",
   "name": "python",
   "nbconvert_exporter": "python",
   "pygments_lexer": "ipython3",
   "version": "3.12.9"
  }
 },
 "nbformat": 4,
 "nbformat_minor": 2
}
