{
 "cells": [
  {
   "cell_type": "markdown",
   "metadata": {},
   "source": [
    "COMANDOS DE LINUX\n",
    "- clear\n",
    "- history\n",
    "- man history\n",
    "- q (quit)\n",
    "- !487 (escribe el comando 487 en el histrorial)\n",
    "- ls (lista)\n",
    "- cd (change directory)\n",
    "- tab (tabulador)\n",
    "- . = \"aqui\"-pwd\n",
    "- .. = nivel superior\n",
    "- whoami (nombre de usuario)\n",
    "- ls -a -all (enseña todos los archivos ocultos)\n",
    "- -d te dice solo las carpetas\n",
    "- -l     use a long listing format\n",
    "- ls -lS \n",
    "- | (tuberias) (coge como entrada lo que ha salido del comando anterior)\n",
    "- tmux\n",
    "- mkdir nombre (crea carpeta)\n",
    "- nano (abre editor, crea un archivo y lo guardas) control O=guardar, control X=salir\n",
    "- limon.sh programa en bash\n",
    "- nano limon.sh (abre limon.sh para editar el script)\n",
    "- bash limon.sh=ejecutar\n",
    "- comando rm (peligroso!!)\n",
    "- rm borra archivos\n",
    "- rmdir borra directorios\n",
    "- en proteus anaconda esta en /opt/\n",
    "- cp copia una carpeta de un archivo a otro\n",
    "- cp -r copia recursivamente\n",
    "- mv mueve el directorio\n",
    "- cat limon.sh muestra el contenido de limon.sh\n",
    "- Control C te largas del programa\n",
    "- more muestra la información poco a poco\n",
    "- grep limon, va a buscar todad las lineas donde limon aparezca\n",
    "- path es una variable en el terminal del sistema operativo (terminal=shell)\n",
    "- PID (process identify)=DNI cada proceso\n",
    "- ps es como el ls de los procesos\n",
    "- una manera de hacer filtrado es ps-a (procesos abiertos)\n",
    "- ps -e= ps -A selecciona todos los procesos abiertos\n",
    "- muchos nucleos es que el ordenador tiene varios procesadores en la CPU pero estos solo funcionan si se lo dices\n",
    "- los cores sirce para paralelizar(?)--> programa con PID padre e hijo, para matar al hijo hay que matar al padre \n",
    "- Control Z=manda el progrma al fondo (background) y no sale en pantalla.\n",
    "- fg programa= lo devuelve la pantalla (foreground)\n",
    "- tmux new, crea nuevas terminales bash como si fueran pestañas (1,2)\n",
    "- tmux new -s T1 crea una nueva sesion T1 de bash\n",
    "- exit cierra la sesion\n",
    "- dettached: control B a la vez y luego pulsar d, con esto sales de T1 a joel. se puede cerrar joel y dejar abierto tmux\n",
    "- attached: tmux a, te lleva a la ultima sesion abierta\n",
    "- tmux a -t T1, te lleva a la sesion T1"
   ]
  },
  {
   "cell_type": "markdown",
   "metadata": {},
   "source": [
    "IA\n",
    "- Copilot (licencia UGR?)\n",
    "- PhindAI (técnica/cientifica y busca las referencia)\n",
    "- Chat GPT"
   ]
  },
  {
   "cell_type": "markdown",
   "metadata": {},
   "source": [
    "PROBLEMAS\n",
    "- Física:\n",
    "    - Simulación sistema solar\n",
    "    - Modelo de Ising\n",
    "    - Cuántica\n",
    "    - Cohete\n",
    "- Algoritmo:\n",
    "    - Verlet\n",
    "    - Monte Carlo"
   ]
  },
  {
   "cell_type": "markdown",
   "metadata": {},
   "source": [
    "* Profiling y debugging\n",
    "* slurm, tmux -mandar trabajos"
   ]
  },
  {
   "cell_type": "markdown",
   "metadata": {},
   "source": [
    "REPASO DE C/C++\n",
    "- importante saber leer y crear ficheros (input y output)\n",
    "- Interprete:\n",
    "    1. Lenguaje alto nivel\n",
    "    2. el interprete lo lee\n",
    "    3. crea ejecutable\n",
    "- Compilador:\n",
    "    1. Lenguaje alto nivel\n",
    "    2. lenguaje maquina (crea un objeto)\n",
    "    3. crea ejecutable"
   ]
  },
  {
   "cell_type": "markdown",
   "metadata": {},
   "source": [
    "Slide 8: Reescalamiento (fuente de errores)"
   ]
  },
  {
   "cell_type": "markdown",
   "metadata": {},
   "source": [
    "Estabilidad numérica"
   ]
  },
  {
   "cell_type": "markdown",
   "metadata": {},
   "source": [
    "$R^3--> R^3$\n",
    "\n",
    "$x-->Ax$, A isometría\n",
    "\n",
    "$||x||=||x||_2=\\sqrt{\\sum_i |x_i|^2}$\n",
    "\n",
    "$A=U$*Una matriz que se divide en dos submatrices que son isometrías que no cambian la norma= valores singulares $G_i>=G_{i*1}>=0$\n",
    "\n",
    "Matriz M de masas con r planetas "
   ]
  },
  {
   "cell_type": "markdown",
   "metadata": {},
   "source": [
    "Función reescalamiento: distancia (vector con N planetas y posiciones), tiempo, masas (vector N)\n",
    "\n",
    "rees_d-->inv_rees_d\n",
    "\n",
    "rees_t-->inv_rees_t\n",
    "\n",
    "rees_m-->inv_rees_m\n",
    "\n",
    "rees_1:R^3-->R^3\n",
    "\n",
    "      r-->(1/c)*r (UA)\n",
    "      dr-->(1/c)*dr\n",
    "inv_rees_1:r-->cr\n",
    "           dr-->cdr"
   ]
  },
  {
   "cell_type": "markdown",
   "metadata": {},
   "source": [
    "double cadena[N], cadena es un puntero\n",
    "\n",
    "double a\n",
    "\n",
    "double* pa\n",
    "\n",
    "pa=&a\n",
    "\n",
    "double** , puntero a puntero de tipo double\n"
   ]
  },
  {
   "cell_type": "markdown",
   "metadata": {},
   "source": [
    "$m_i \\partial_t^2 r_i$"
   ]
  },
  {
   "cell_type": "markdown",
   "metadata": {},
   "source": [
    "https://curc.readthedocs.io/en/latest/programming/OpenMP-C.html\n",
    "\n",
    "https://numba.readthedocs.io/en/stable/index.html\n",
    "\n",
    "opt/apps/anaconda3/bin\n",
    "cd\n",
    "ls-la \n",
    "hacer archivo que se llama .bash_profile\n",
    "\n",
    "1. echo $PATH | more\n",
    "2. export PATH=opt\n"
   ]
  },
  {
   "cell_type": "code",
   "execution_count": 16,
   "metadata": {},
   "outputs": [
    {
     "name": "stdout",
     "output_type": "stream",
     "text": [
      "Número de núcleos disponibles: 8\n"
     ]
    }
   ],
   "source": [
    "import os\n",
    "\n",
    "# Obtener el número de núcleos\n",
    "num_nucleos = os.cpu_count()\n",
    "print(f\"Número de núcleos disponibles: {num_nucleos}\")"
   ]
  },
  {
   "cell_type": "markdown",
   "metadata": {},
   "source": [
    "COSAS QUE HACER:\n",
    "- Programas que hagan operaciones con matrices\n",
    "- Programas que hagan reescalamiento.\n",
    "Estos programas se meten como funciones en el problema del tema 1 de los planetas\n",
    "- Optimizar estos programas:\n",
    "    1. En C/C++: para optimizar compilación se utiliza O1.O2.O3 y para paralelizar(hilos) se utiliza open MD\n",
    "    2. En python: para optimizar se utiliza numba y para paralelizar se utiliza parallel con numba o PyOMP."
   ]
  }
 ],
 "metadata": {
  "kernelspec": {
   "display_name": "Python 3",
   "language": "python",
   "name": "python3"
  },
  "language_info": {
   "codemirror_mode": {
    "name": "ipython",
    "version": 3
   },
   "file_extension": ".py",
   "mimetype": "text/x-python",
   "name": "python",
   "nbconvert_exporter": "python",
   "pygments_lexer": "ipython3",
   "version": "3.12.9"
  }
 },
 "nbformat": 4,
 "nbformat_minor": 2
}
