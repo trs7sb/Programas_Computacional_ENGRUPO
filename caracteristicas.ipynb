{
 "cells": [
  {
   "cell_type": "code",
   "execution_count": 8,
   "metadata": {},
   "outputs": [
    {
     "name": "stdout",
     "output_type": "stream",
     "text": [
      "Distancias de los planetas al Sol y sus radios:\n",
      "Planeta    Distancia (UA)  Distancia (km)       Radio (UA)     \n",
      "-----------------------------------------------------------------\n",
      "Mercurio   0.39            58,343,169.57        0.0000163071   \n",
      "Venus      0.72            107,710,466.90       0.0000404551   \n",
      "Tierra     1.0             149,597,870.70       0.0000426343   \n",
      "Marte      1.52            227,388,763.46       0.0000227009   \n",
      "Júpiter    5.2             777,908,927.64       0.0004778945   \n",
      "Saturno    9.58            1,433,147,601.31     0.0004028667   \n",
      "Urano      19.22           2,875,271,074.85     0.0001708514   \n",
      "Neptuno    30.05           4,495,416,014.53     0.0001655371   \n",
      "\n",
      "Radio solar:\n",
      "El radio del Sol es 0.0046504673 UA\n"
     ]
    }
   ],
   "source": [
    "# Distancias promedio de los planetas al Sol en UA\n",
    "distancias_ua = {\n",
    "    \"Mercurio\": 0.39,\n",
    "    \"Venus\": 0.72,\n",
    "    \"Tierra\": 1.00,\n",
    "    \"Marte\": 1.52,\n",
    "    \"Júpiter\": 5.20,\n",
    "    \"Saturno\": 9.58,\n",
    "    \"Urano\": 19.22,\n",
    "    \"Neptuno\": 30.05\n",
    "}\n",
    "\n",
    "# Diámetros promedio de los planetas en kilómetros\n",
    "diametros_km = {\n",
    "    \"Mercurio\": 4_879,\n",
    "    \"Venus\": 12_104,\n",
    "    \"Tierra\": 12_756,\n",
    "    \"Marte\": 6_792,\n",
    "    \"Júpiter\": 142_984,\n",
    "    \"Saturno\": 120_536,\n",
    "    \"Urano\": 51_118,\n",
    "    \"Neptuno\": 49_528,\n",
    "}\n",
    "\n",
    "# Conversión de UA a kilómetros (1 UA = 149,597,870.7 km)\n",
    "UA_A_KM = 149_597_870.7\n",
    "\n",
    "# Mostrar las distancias en UA, kilómetros y radios en UA\n",
    "print(\"Distancias de los planetas al Sol y sus radios:\")\n",
    "print(f\"{'Planeta':<10} {'Distancia (UA)':<15} {'Distancia (km)':<20} {'Radio (UA)':<15}\")\n",
    "print(\"-\" * 65)\n",
    "\n",
    "for planeta, distancia_ua in distancias_ua.items():\n",
    "    distancia_km = distancia_ua * UA_A_KM\n",
    "    radio_km = diametros_km[planeta] / 2  # Calcular el radio a partir del diámetro\n",
    "    radio_ua = radio_km / UA_A_KM  # Convertir el radio de kilómetros a UA\n",
    "    print(f\"{planeta:<10} {distancia_ua:<15} {distancia_km:<20,.2f} {radio_ua:<15.10f}\")\n",
    "\n",
    "# Calcular y mostrar el radio solar en UA\n",
    "radio_solar_km = 695_700  # Radio del Sol en kilómetros\n",
    "radio_solar_ua = radio_solar_km / UA_A_KM\n",
    "print(\"\\nRadio solar:\")\n",
    "print(f\"El radio del Sol es {radio_solar_ua:.10f} UA\")"
   ]
  }
 ],
 "metadata": {
  "kernelspec": {
   "display_name": "base",
   "language": "python",
   "name": "python3"
  },
  "language_info": {
   "codemirror_mode": {
    "name": "ipython",
    "version": 3
   },
   "file_extension": ".py",
   "mimetype": "text/x-python",
   "name": "python",
   "nbconvert_exporter": "python",
   "pygments_lexer": "ipython3",
   "version": "3.12.8"
  }
 },
 "nbformat": 4,
 "nbformat_minor": 2
}
